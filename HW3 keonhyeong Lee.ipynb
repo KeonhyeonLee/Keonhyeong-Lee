{
 "cells": [
  {
   "cell_type": "markdown",
   "id": "ab185db1",
   "metadata": {},
   "source": [
    "1. Begin (or restart) part \"3(a)\" of the TUT Demo and interact with a ChatBot to make sure you understand how each part the Monte Hall problem code above works"
   ]
  },
  {
   "cell_type": "markdown",
   "id": "95807209",
   "metadata": {},
   "source": [
    "The chatbot explained each part of the code.\n",
    "  - Imports and Initialization\n",
    "  - Simulation Loop\n",
    "  - Switching Strategy\n",
    "  - Check for a Win\n",
    "  - Results\n"
   ]
  },
  {
   "cell_type": "markdown",
   "id": "f71b429e",
   "metadata": {},
   "source": [
    "2. Extend your ChatBot sessions to now address part \"3(b)\" of the TUT Demo and interact with your ChatBot to see if it can suggest a simpler, more streamlined way to code up this for loop simulation so the process is more clear and easier to understand; then, describe any preferences you have in terms of readibility or explainability between the original code and the code improvements suggested by the ChatBot"
   ]
  },
  {
   "cell_type": "markdown",
   "id": "b0ed60bf",
   "metadata": {},
   "source": [
    "There was 4 main change to Simplified code\n",
    " - Avoiding Complex Try-Except Blocks: the chatbot remove 'try-excep't code by filtering out the player’s initial choice and the winning door in a single line\n",
    " - Simpler Logic for Door Choices: the chatbot used two key list comprehensions, which is 'remaining_doors' and 'switched_choice. This code is to remove the doors logically instead of manually adding/removing doors, making it more intuitive and clear\n",
    " - Variable Naming for Clarity: the chatbot named new variables to improving readability and making the code more self-explanatory.\n",
    " - No Manual List Management: the chatbot fixed the code to make lists as directly filtered to include only the necessary doors. Instead of using 'all_door_options_list'\n",
    "\n",
    "Next first cell is what the ChatBot suggested, and the secound one is the original code."
   ]
  },
  {
   "cell_type": "code",
   "execution_count": 6,
   "id": "67ce1413",
   "metadata": {
    "scrolled": false
   },
   "outputs": [
    {
     "data": {
      "text/plain": [
       "0.66758"
      ]
     },
     "execution_count": 6,
     "metadata": {},
     "output_type": "execute_result"
    }
   ],
   "source": [
    "import numpy as np\n",
    "\n",
    "doors = [1, 2, 3]\n",
    "reps = 100000\n",
    "wins = 0\n",
    "\n",
    "for _ in range(reps):\n",
    "    winning_door = np.random.choice(doors)\n",
    "    initial_choice = np.random.choice(doors)\n",
    "\n",
    "    remaining_doors = [door for door in doors if door != initial_choice and door != winning_door]\n",
    "    host_reveal = np.random.choice(remaining_doors)\n",
    "\n",
    "    switched_choice = [door for door in doors if door != initial_choice and door != host_reveal][0]\n",
    "\n",
    "    if switched_choice == winning_door:\n",
    "        wins += 1\n",
    "\n",
    "win_percentage = wins / reps\n",
    "win_percentage\n"
   ]
  },
  {
   "cell_type": "code",
   "execution_count": 1,
   "id": "fbd51c2f",
   "metadata": {},
   "outputs": [
    {
     "data": {
      "text/plain": [
       "0.66798"
      ]
     },
     "execution_count": 1,
     "metadata": {},
     "output_type": "execute_result"
    }
   ],
   "source": [
    "import numpy as np\n",
    "all_door_options = (1,2,3)\n",
    "my_door_choice = 1  # 1,2,3\n",
    "i_won = 0\n",
    "reps = 100000\n",
    "for i in range(reps):\n",
    "    secret_winning_door = np.random.choice(all_door_options)\n",
    "    all_door_options_list = list(all_door_options)\n",
    "    all_door_options_list.remove(secret_winning_door)\n",
    "    try:\n",
    "        all_door_options_list.remove(my_door_choice)\n",
    "    except:\n",
    "        pass\n",
    "    goat_door_reveal = np.random.choice(all_door_options_list)\n",
    "    all_door_options_list.remove(goat_door_reveal)\n",
    "\n",
    "    if secret_winning_door != my_door_choice:\n",
    "        all_door_options_list.append(secret_winning_door)\n",
    "\n",
    "    my_door_choice = all_door_options_list[0]\n",
    "\n",
    "    if my_door_choice == secret_winning_door:\n",
    "        i_won += 1\n",
    "\n",
    "i_won/reps"
   ]
  },
  {
   "cell_type": "markdown",
   "id": "2e45958a",
   "metadata": {},
   "source": [
    "3. Submit your preferred version of the Monty Hall problem that is verified to be running and working with a final printed output of the code; then, add code comments explaining the purpose of each line of the code"
   ]
  },
  {
   "cell_type": "code",
   "execution_count": null,
   "id": "8750274a",
   "metadata": {},
   "outputs": [],
   "source": [
    "import numpy as np #import numpy for random\n",
    "\n",
    "doors = [1, 2, 3]  #list of doors\n",
    "reps = 100000 #number of try\n",
    "wins = 0 #count for win\n",
    "\n",
    "for _ in range(reps):\n",
    "    winning_door = np.random.choice(doors)  #randomly assign the winning door\n",
    "    initial_choice = np.random.choice(doors)  #contestant's random initial choice\n",
    "    \n",
    "    #Host reveals a goat door, excluding the initial choice and winning door\n",
    "    remaining_doors = [door for door in doors if door != initial_choice and door != winning_door]\n",
    "    host_reveal = np.random.choice(remaining_doors)\n",
    "\n",
    "    #Simulate the contestant switching their choice to the other unopened door\n",
    "    switched_choice = [door for door in doors if door != initial_choice and door != host_reveal][0]\n",
    "\n",
    "    #count win number\n",
    "    if switched_choice == winning_door:\n",
    "        wins += 1\n",
    "\n",
    "#Calculate the win percentage when the contestant switches\n",
    "win_percentage = wins / reps\n",
    "win_percentage\n"
   ]
  },
  {
   "cell_type": "code",
   "execution_count": null,
   "id": "71491d10",
   "metadata": {},
   "outputs": [],
   "source": [
    "In the conversation about the **Monty Hall problem**, we discussed a simulation written in Python. Initially, a version of the code was presented that simulated the game, where a player picks a door, the host reveals a losing door (a \"goat\"), and the player has the option to switch doors. The simulation was run to see if switching increases the chances of winning.\n",
    "\n",
    "### Key points:\n",
    "1. **Original Code**: The original simulation was functional but somewhat complex due to manual list manipulations and a try-except block.\n",
    "2. **Streamlined Version**: I provided a simpler, clearer version of the simulation. The improvements included:\n",
    "   - Using list comprehensions to handle the doors efficiently.\n",
    "   - Clearer variable names to improve readability.\n",
    "   - Avoiding try-except blocks and reducing manual list handling.\n",
    "   \n",
    "3. **Issue Fix**: There was a typo (`winning_ddoor` instead of `winning_door`) in my version, which was fixed.\n",
    "\n",
    "4. **Final Version**: The corrected version worked as expected, where the simulation accurately reflected the Monty Hall problem's outcome. When a player switches doors, they win about 66% of the time, which matches the theoretical result of the problem.\n",
    "\n",
    "This streamlined version improves readability and helps users understand the Monty Hall problem more easily."
   ]
  },
  {
   "cell_type": "markdown",
   "id": "93f2d6f3",
   "metadata": {},
   "source": [
    "4. Watch the embedded video tutorial on Markov chains in the next Jupyter cell below to understand their application and relevance for ChatBots; then, after watching the video, start a new ChatBot session by prompting that you have code that creates a \"Markovian ChatBot\"; show it the first version of the \"Markovian ChatBot code\" below; and interact with the ChatBot session to make sure you understand how the original first version of the \"Markovian ChatBot code\" works"
   ]
  },
  {
   "cell_type": "markdown",
   "id": "6e5d2838",
   "metadata": {},
   "source": [
    "Chatbot explained all the steps of simple markov code\n",
    " - Imports: install modules (random, string)\n",
    " - Class Definition: basic doe to start, take dictionary\n",
    " - Text preprocessing: lower the texts, split, and save to list\n",
    " - Loop through words: create a chain where each word is associated with possible next words\n",
    " - Build the dictionary: move word to next_word\n",
    " - Generating a Response: check if the word exists in the chain, building the response, and Return the final response\n",
    " \n",
    " The code below here is what the chatbot made"
   ]
  },
  {
   "cell_type": "code",
   "execution_count": 13,
   "id": "929ee939",
   "metadata": {},
   "outputs": [
    {
     "name": "stdout",
     "output_type": "stream",
     "text": [
      "hello how are you i hope you are you i respond based on probabilities lets chat and i hope you\n"
     ]
    }
   ],
   "source": [
    "import random\n",
    "import string\n",
    "\n",
    "class MarkovChatBot:\n",
    "    def __init__(self, text):\n",
    "        self.word_dict = self.build_markov_chain(text)\n",
    "\n",
    "    def build_markov_chain(self, text):\n",
    "        # Convert the text to lowercase and remove punctuation\n",
    "        text = text.lower().translate(str.maketrans('', '', string.punctuation))\n",
    "        words = text.split()\n",
    "        markov_chain = {}\n",
    "\n",
    "        # Creating the Markov chain dictionary\n",
    "        for i in range(len(words) - 1):\n",
    "            word = words[i]\n",
    "            next_word = words[i + 1]\n",
    "\n",
    "            if word not in markov_chain:\n",
    "                markov_chain[word] = []\n",
    "\n",
    "            markov_chain[word].append(next_word)\n",
    "\n",
    "        return markov_chain\n",
    "\n",
    "    def generate_response(self, seed_word, max_words=20):\n",
    "        # Ensure the seed word is lowercase and punctuation-free\n",
    "        seed_word = seed_word.lower().translate(str.maketrans('', '', string.punctuation))\n",
    "\n",
    "        if seed_word not in self.word_dict:\n",
    "            return \"I don't know what to say.\"\n",
    "\n",
    "        response = [seed_word]\n",
    "        current_word = seed_word\n",
    "\n",
    "        for _ in range(max_words - 1):\n",
    "            next_words = self.word_dict.get(current_word, [])\n",
    "            if not next_words:\n",
    "                break\n",
    "            current_word = random.choice(next_words)\n",
    "            response.append(current_word)\n",
    "\n",
    "        return \" \".join(response)\n",
    "\n",
    "\n",
    "# Example usage:\n",
    "text = \"\"\"\n",
    "Hello, how are you? I hope you are doing well. \n",
    "I am a simple Markovian ChatBot, and I respond based on probabilities. \n",
    "Let's chat and see how the conversation goes!\n",
    "\"\"\"\n",
    "\n",
    "chatbot = MarkovChatBot(text)\n",
    "\n",
    "# Starting interaction:\n",
    "print(chatbot.generate_response(\"hello\"))  # Ensure the input is in lowercase\n"
   ]
  },
  {
   "cell_type": "markdown",
   "id": "8a3c7c29",
   "metadata": {},
   "source": [
    "5. Recreate (or resume) the previous ChatBot session from question \"4\" above, and now prompt the ChatBot session that you have a couple extensions of the code to show it, and then show it each of the extentions of the \"Markovian ChatBot code\" below in turn\n",
    "    1. Without just supplying your ChatBot session with the answers, see if the ChatBot can figure out what the extensions in the code do; namely, making character specific Markov chains, and using bigrams (rather than just the previous word alone) dependency... prompt your ChatBot session with some hints if it's not seeming to \"get it\"\n",
    "\n",
    "\n",
    "    2. Interact with your ChatBot session to have it explain details of the code wherever you need help understanding what the code is doing and how it works\n",
    "\n",
    "\n",
    "    3. Start yet another new ChatBot session and first show the ChatBot the original \"Markovian ChatBot code\" below, and then tell ChatBot that you have an extension but this time just directly provide it the more complicated final extension without ever providing the intermediate extension code to the ChatBot session and see if it's still able to understand everything extension does; namely, making character specific Markov chains, and using bigrams (rather than just the previous word alone) dependency... prompt the ChatBot with some hints if it's not seeming to understand what you're getting at..."
   ]
  },
  {
   "cell_type": "code",
   "execution_count": 14,
   "id": "82532cc5",
   "metadata": {},
   "outputs": [
    {
     "name": "stdout",
     "output_type": "stream",
     "text": [
      "heese iesi d am arespreresiman chesaroeel. yobasesiathoprkoithe retind at'si ban he ban re titbondoe\n"
     ]
    }
   ],
   "source": [
    "#code without bigram\n",
    "\n",
    "class CharacterMarkovChatBot:\n",
    "    def __init__(self, text):\n",
    "        self.char_dict = self.build_markov_chain(text)\n",
    "\n",
    "    def build_markov_chain(self, text):\n",
    "        # Convert the text to lowercase\n",
    "        text = text.lower()\n",
    "        markov_chain = {}\n",
    "\n",
    "        # Creating the Markov chain dictionary based on characters\n",
    "        for i in range(len(text) - 1):\n",
    "            char = text[i]\n",
    "            next_char = text[i + 1]\n",
    "\n",
    "            if char not in markov_chain:\n",
    "                markov_chain[char] = []\n",
    "\n",
    "            markov_chain[char].append(next_char)\n",
    "\n",
    "        return markov_chain\n",
    "\n",
    "    def generate_response(self, seed_char, max_chars=100):\n",
    "        # Ensure the seed char is lowercase\n",
    "        seed_char = seed_char.lower()\n",
    "\n",
    "        if seed_char not in self.char_dict:\n",
    "            return \"I don't know what to say.\"\n",
    "\n",
    "        response = [seed_char]\n",
    "        current_char = seed_char\n",
    "\n",
    "        for _ in range(max_chars - 1):\n",
    "            next_chars = self.char_dict.get(current_char, [])\n",
    "            if not next_chars:\n",
    "                break\n",
    "            current_char = random.choice(next_chars)\n",
    "            response.append(current_char)\n",
    "\n",
    "        return \"\".join(response)\n",
    "\n",
    "\n",
    "# Example usage:\n",
    "text = \"\"\"\n",
    "Hello, how are you? I hope you are doing well. \n",
    "I am a simple Markovian ChatBot, and I respond based on probabilities. \n",
    "Let's chat and see how the conversation goes!\n",
    "\"\"\"\n",
    "\n",
    "chatbot = CharacterMarkovChatBot(text)\n",
    "\n",
    "# Starting interaction:\n",
    "print(chatbot.generate_response(\"h\"))  # Generate a character-based response starting with 'h'\n"
   ]
  },
  {
   "cell_type": "code",
   "execution_count": 15,
   "id": "b6fe95ca",
   "metadata": {},
   "outputs": [
    {
     "name": "stdout",
     "output_type": "stream",
     "text": [
      "hello how are you i hope you are doing well i am a simple markovian chatbot and i respond based\n"
     ]
    }
   ],
   "source": [
    "#code with bigram\n",
    "class BigramMarkovChatBot:\n",
    "    def __init__(self, text):\n",
    "        self.word_dict = self.build_markov_chain(text)\n",
    "\n",
    "    def build_markov_chain(self, text):\n",
    "        # Convert the text to lowercase and remove punctuation\n",
    "        text = text.lower().translate(str.maketrans('', '', string.punctuation))\n",
    "        words = text.split()\n",
    "        markov_chain = {}\n",
    "\n",
    "        # Creating the Markov chain using bigrams (word pairs)\n",
    "        for i in range(len(words) - 2):\n",
    "            bigram = (words[i], words[i + 1])\n",
    "            next_word = words[i + 2]\n",
    "\n",
    "            if bigram not in markov_chain:\n",
    "                markov_chain[bigram] = []\n",
    "\n",
    "            markov_chain[bigram].append(next_word)\n",
    "\n",
    "        return markov_chain\n",
    "\n",
    "    def generate_response(self, seed_bigram, max_words=20):\n",
    "        # Ensure the seed bigram is lowercase and punctuation-free\n",
    "        seed_bigram = tuple(word.lower().translate(str.maketrans('', '', string.punctuation)) for word in seed_bigram)\n",
    "\n",
    "        if seed_bigram not in self.word_dict:\n",
    "            return \"I don't know what to say.\"\n",
    "\n",
    "        response = list(seed_bigram)\n",
    "        current_bigram = seed_bigram\n",
    "\n",
    "        for _ in range(max_words - 2):\n",
    "            next_words = self.word_dict.get(current_bigram, [])\n",
    "            if not next_words:\n",
    "                break\n",
    "            next_word = random.choice(next_words)\n",
    "            response.append(next_word)\n",
    "            current_bigram = (current_bigram[1], next_word)\n",
    "\n",
    "        return \" \".join(response)\n",
    "\n",
    "\n",
    "# Example usage:\n",
    "text = \"\"\"\n",
    "Hello, how are you? I hope you are doing well. \n",
    "I am a simple Markovian ChatBot, and I respond based on probabilities. \n",
    "Let's chat and see how the conversation goes!\n",
    "\"\"\"\n",
    "\n",
    "chatbot = BigramMarkovChatBot(text)\n",
    "\n",
    "# Starting interaction:\n",
    "print(chatbot.generate_response((\"hello\", \"how\")))  # Generate a bigram-based response\n"
   ]
  },
  {
   "cell_type": "markdown",
   "id": "1137045c",
   "metadata": {},
   "source": [
    "6. Report on your experience interacting with ChatBots to understand the Monte Hall problem and \"Markovian ChatBot\" code"
   ]
  },
  {
   "cell_type": "markdown",
   "id": "1ebd0519",
   "metadata": {},
   "source": [
    "advantage\n",
    " - Get real-time answers to my questions, and quickly check for errors or fixes in my code.\n",
    " - Even complex concepts are explained in an easy-to-understand manner, with examples that allow me to apply them right away.\n",
    " - Personalized answers are provided based on my questions, so I can learn at your own pace.\n",
    "\n",
    "disadvantage\n",
    " - Limited explanations may be provided for advanced programming concepts or in-depth theories. More specialized materials or hands-on practice may be required.\n",
    " - It is important to write and run code yourself to practice coding. Chatbot does not provide an environment to run code in real-time, so I need to prepare an environment to practice yourself.\n",
    " - While it is important to discuss and collaborate with others in the developer community, Chatbot cannot replace these interactions."
   ]
  },
  {
   "cell_type": "markdown",
   "id": "b27bfcb9",
   "metadata": {},
   "source": [
    "7. Reflect on your experience interacting with ChatBot and describe how your perception of AI-driven assistance tools in the context of learning coding, statistics, and data science has been evolving (or not) since joining the course"
   ]
  },
  {
   "cell_type": "markdown",
   "id": "e92553a6",
   "metadata": {},
   "source": [
    "AI-driven assistance tools have evolved from being static aids to becoming dynamic, interactive learning partners. They not only assist with repetitive tasks but also foster better understanding and efficiency in learning, helping to bridge the gap between theory and practice in coding, statistics, and data science."
   ]
  },
  {
   "cell_type": "markdown",
   "id": "86164779",
   "metadata": {},
   "source": [
    "8. ChatBots consume text data available on the web or platforms, and thus represents a new way to \"search consensensus\" that condenses and summarizes mainstream human thought"
   ]
  },
  {
   "cell_type": "markdown",
   "id": "b2bc7b91",
   "metadata": {},
   "source": [
    "1. Key skills for career development: Learning and adaptability, communication, coding, statistics and data analysis\n",
    "2. Being a statistician or data scientist without coding: Data product manager, Business analyst, Consultant or data strategist\n",
    "3. Chatbot summery: In a conversation, we explored the relevance of learning, adaptability, communication, coding, and statistical knowledge for the modern world, particularly in the data science industry. The conversation highlighted that while coding and statistical analysis are traditionally viewed as essential, alternative career paths exist in data science that emphasize business strategy, domain expertise, and communication. These roles include data product managers, business analysts, and consultants, where deep technical skills are secondary to strategic thinking and storytelling with data. My reflection on this session clarified the skills I would prioritize in my career journey. While the ChatBot was insightful, the next steps might involve seeking deeper, more specialized insights from industry professionals.\n",
    "4. Reflection on potential future career: I see the importance of focusing on communication, project management, and strategic thinking skills\n",
    "5. Thoughts on chatBot helpfulness and limitations:reaching out to industry professionals, seeking mentorship, participating in industry-specific communities\n"
   ]
  }
 ],
 "metadata": {
  "kernelspec": {
   "display_name": "Python 3 (ipykernel)",
   "language": "python",
   "name": "python3"
  },
  "language_info": {
   "codemirror_mode": {
    "name": "ipython",
    "version": 3
   },
   "file_extension": ".py",
   "mimetype": "text/x-python",
   "name": "python",
   "nbconvert_exporter": "python",
   "pygments_lexer": "ipython3",
   "version": "3.11.6"
  }
 },
 "nbformat": 4,
 "nbformat_minor": 5
}
