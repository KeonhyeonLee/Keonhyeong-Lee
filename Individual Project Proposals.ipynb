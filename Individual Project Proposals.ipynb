{
 "cells": [
  {
   "cell_type": "markdown",
   "id": "87c3e448",
   "metadata": {},
   "source": [
    "1) chosen variable : SUBSTANCE_USE_drugs_alcohol - In the PAST SIX MONTHS, how often did you use the following substances? - Alcohol (e.g., beer, wine, liquor)\n",
    "    \n",
    "    my plan : I will run a hypotheses test to test evidence if students are drinking more than average Canadian(reaserch). If p value < 0.05 mean students drink significantly more than the Canadian average, if p value >= 0.05 mean no significant difference in drinking frequency. It will provide the strength of evidence if students are drinking more than average Canadian, which might be consider as students health problem.\n",
    "    \n",
    "2) chosen variable : HEALTH_hampson_good_health_practices_scale_sleep - Rate your level of agreement with each of the following statements: - I get enough sleep\n",
    "\n",
    "    my plan : I will make a histogram based in this data. The histogram will display the frequency of different sleep levels among students. The graph will provide verious statistical informations. \n",
    "           - Mean : showing where most students’ sleep levels tend to fall on average. \n",
    "           - Median : showing a better sense of the center of the distribution if there are outliers.\n",
    "           - Confidence interval : showing range of values that is likely to contain the true population mean with a specified level of confidence.\n",
    "           - Standard deviation : showing the spread or variability in sleep levels around the mean.\n",
    "           - Skewness : if the distribution is asymmetric, and kurtosis describes the \"peakedness\" of the distribution.\n",
    "    \n",
    "3) chosen variable : WELLNESS_self_rated_physical_health - At the present time, would you say your PHYSICAL HEALTH is\n",
    "186\t2021_cross / WELLNESS_self_rated_mental_health - At the present time, would you say your MENTAL HEALTH is\n",
    "\n",
    "    my plan : I will polt this data WELLNESS_self_rated_physical_health as y axis,  WELLNESS_self_rated_mental_health as x axis. I will try to find a correlation by simple linear regression. If I founnd positive correlation between mental and physical health, it suggesting that better mental health is often linked to better physical health and vice versa. However, correlation does not imply causation, so we can't assume that one directly causes the other only that they are related."
   ]
  }
 ],
 "metadata": {
  "kernelspec": {
   "display_name": "Python 3 (ipykernel)",
   "language": "python",
   "name": "python3"
  },
  "language_info": {
   "codemirror_mode": {
    "name": "ipython",
    "version": 3
   },
   "file_extension": ".py",
   "mimetype": "text/x-python",
   "name": "python",
   "nbconvert_exporter": "python",
   "pygments_lexer": "ipython3",
   "version": "3.11.6"
  }
 },
 "nbformat": 4,
 "nbformat_minor": 5
}
